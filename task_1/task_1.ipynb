{
 "cells": [
  {
   "cell_type": "code",
   "execution_count": 1,
   "metadata": {},
   "outputs": [],
   "source": [
    "import qiskit"
   ]
  },
  {
   "cell_type": "markdown",
   "metadata": {},
   "source": [
    "We are given a function\n",
    "\n",
    "$$\\epsilon = min(\\| |\\psi(\\theta)\\rangle - |\\phi\\rangle \\|)$$\n",
    "\n",
    "And, as a function of number of layers, we have to minimize it. The $\\epsilon$ is the \"distance\" b/w the two vectors, which is given by the norm of difference of the vectors. Note that the individual norm of a quantum state is always 1."
   ]
  }
 ],
 "metadata": {
  "kernelspec": {
   "display_name": "qgss",
   "language": "python",
   "name": "qgss"
  },
  "language_info": {
   "codemirror_mode": {
    "name": "ipython",
    "version": 3
   },
   "file_extension": ".py",
   "mimetype": "text/x-python",
   "name": "python",
   "nbconvert_exporter": "python",
   "pygments_lexer": "ipython3",
   "version": "3.8.5"
  }
 },
 "nbformat": 4,
 "nbformat_minor": 4
}
