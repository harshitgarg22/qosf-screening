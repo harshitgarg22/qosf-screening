{
 "cells": [
  {
   "cell_type": "markdown",
   "metadata": {},
   "source": [
    "# Question"
   ]
  },
  {
   "cell_type": "markdown",
   "metadata": {},
   "source": [
    "Implement a circuit that returns |01> and |10> with equal probability.\n",
    "Requirements :\n",
    "The circuit should consist only of CNOTs, RXs and RYs. \n",
    "Start from all parameters in parametric gates being equal to 0 or randomly chosen. \n",
    "You should find the right set of parameters using gradient descent (you might use more advanced optimization methods if you like). \n",
    "Simulations must be done with sampling - i.e. a limited number of measurements per iteration and noise. \n",
    "\n",
    "Compare the results for different numbers of measurements: 1, 10, 100, 1000. \n",
    "\n",
    "Bonus question:\n",
    "How to make sure you produce state |01> + |10> and not |01> - |10> ?\n"
   ]
  },
  {
   "cell_type": "markdown",
   "metadata": {},
   "source": [
    "# Idea"
   ]
  },
  {
   "cell_type": "markdown",
   "metadata": {},
   "source": [
    "With some math magic, we know that the state can be prepared with the following set of operations\n",
    "\n",
    "$$ (R_X(\\pi) \\otimes I) * (R_Y(-\\pi/2) \\otimes I) * (CNOT(qubit[0], qubit[1])) $$"
   ]
  },
  {
   "cell_type": "markdown",
   "metadata": {},
   "source": [
    "Now, as per the problem statement, we have been asked to only determine parameters through a ML technique such as gradient descent. So our problem essentially boils down to using gradient descent to update the two parameters such that the value of $(\\theta_1, \\theta_2)$ approaches $(\\pi, -\\pi/2)$.\n",
    "\n",
    "For doing that, we will need to define a cost function. Now this cost function will naturally be dependent on the counts of $01$ and $10$ measurements. Specifically, the difference of the two must be minimized, whereas the counts of residual states $00$ and $11$ must be penalized.\n",
    "\n",
    "Note: To further tackle the bonus question, we could potentially penalize the cost function if the value of the parameters deviate away"
   ]
  }
 ],
 "metadata": {
  "kernelspec": {
   "display_name": "qosf",
   "language": "python",
   "name": "qosf"
  },
  "language_info": {
   "codemirror_mode": {
    "name": "ipython",
    "version": 3
   },
   "file_extension": ".py",
   "mimetype": "text/x-python",
   "name": "python",
   "nbconvert_exporter": "python",
   "pygments_lexer": "ipython3",
   "version": "3.8.5"
  }
 },
 "nbformat": 4,
 "nbformat_minor": 4
}
